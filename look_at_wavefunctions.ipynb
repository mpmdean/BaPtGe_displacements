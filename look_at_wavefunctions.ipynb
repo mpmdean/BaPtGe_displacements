{
 "cells": [
  {
   "cell_type": "code",
   "execution_count": 1,
   "metadata": {},
   "outputs": [],
   "source": [
    "import numpy as np"
   ]
  },
  {
   "cell_type": "code",
   "execution_count": 14,
   "metadata": {},
   "outputs": [],
   "source": [
    "om = np.exp(1j*2*np.pi/3)\n",
    "\n",
    "phi_2 = np.array([1, om, om**2,\n",
    "                  -1, -om, om**2,\n",
    "                 -1, om, -om**2,\n",
    "                 1, -om, -om**2])\n",
    "\n",
    "phi_3 = np.array([1, om**2, om,\n",
    "                  -1, -om**2, om,\n",
    "                 -1, om**2, -om,\n",
    "                 1, -om**2, -om])"
   ]
  },
  {
   "cell_type": "code",
   "execution_count": null,
   "metadata": {},
   "outputs": [],
   "source": [
    "np.isclose(psi_2, np.conj(psi_3))"
   ]
  },
  {
   "cell_type": "code",
   "execution_count": 5,
   "metadata": {},
   "outputs": [
    {
     "data": {
      "text/plain": [
       "array([ 0.   ,  1.732, -1.732,  0.   , -1.732, -1.732,  0.   ,  1.732,\n",
       "        1.732,  0.   , -1.732,  1.732])"
      ]
     },
     "execution_count": 5,
     "metadata": {},
     "output_type": "execute_result"
    }
   ],
   "source": [
    "np.round(psi_2 - psi_3, decimals=3)"
   ]
  },
  {
   "cell_type": "code",
   "execution_count": 9,
   "metadata": {},
   "outputs": [],
   "source": [
    "alpha = np.exp(-1j*2*np.pi/3)\n",
    "def H(qx, qy, qz):\n",
    "    arr = np.array([[qx*qy*qz, qx**2 + alpha*qy**2+alpha**2*qz**2],\n",
    "                    [qx**2+alpha**2*qy**2+alpha**2*qz**2, -qx*qy*qz]])\n",
    "    return arr"
   ]
  },
  {
   "cell_type": "code",
   "execution_count": 22,
   "metadata": {},
   "outputs": [],
   "source": [
    "H(0, 0, 1).round(2)\n",
    "\n",
    "e, v = np.linalg.eig(H(0, 0, 1))"
   ]
  },
  {
   "cell_type": "code",
   "execution_count": 24,
   "metadata": {},
   "outputs": [
    {
     "data": {
      "text/plain": [
       "array([[-0.70710678+0.j        ,  0.70710678+0.j        ],\n",
       "       [-0.35355339+0.61237244j, -0.35355339+0.61237244j]])"
      ]
     },
     "execution_count": 24,
     "metadata": {},
     "output_type": "execute_result"
    }
   ],
   "source": [
    "v"
   ]
  },
  {
   "cell_type": "code",
   "execution_count": 16,
   "metadata": {},
   "outputs": [
    {
     "data": {
      "text/plain": [
       "array([ 1. +0.j       , -0.5+0.8660254j, -0.5-0.8660254j, -1. +0.j       ,\n",
       "        0.5-0.8660254j, -0.5-0.8660254j, -1. +0.j       , -0.5+0.8660254j,\n",
       "        0.5+0.8660254j,  1. +0.j       ,  0.5-0.8660254j,  0.5+0.8660254j])"
      ]
     },
     "execution_count": 16,
     "metadata": {},
     "output_type": "execute_result"
    }
   ],
   "source": [
    "phi_2"
   ]
  },
  {
   "cell_type": "code",
   "execution_count": null,
   "metadata": {},
   "outputs": [],
   "source": []
  }
 ],
 "metadata": {
  "kernelspec": {
   "display_name": "Python 3",
   "language": "python",
   "name": "python3"
  },
  "language_info": {
   "codemirror_mode": {
    "name": "ipython",
    "version": 3
   },
   "file_extension": ".py",
   "mimetype": "text/x-python",
   "name": "python",
   "nbconvert_exporter": "python",
   "pygments_lexer": "ipython3",
   "version": "3.8.3"
  }
 },
 "nbformat": 4,
 "nbformat_minor": 4
}
